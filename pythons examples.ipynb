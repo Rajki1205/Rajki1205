{
  "nbformat": 4,
  "nbformat_minor": 0,
  "metadata": {
    "colab": {
      "provenance": [],
      "authorship_tag": "ABX9TyMCJLZAGkqHSUUkWZG+Y+16",
      "include_colab_link": true
    },
    "kernelspec": {
      "name": "python3",
      "display_name": "Python 3"
    },
    "language_info": {
      "name": "python"
    }
  },
  "cells": [
    {
      "cell_type": "markdown",
      "metadata": {
        "id": "view-in-github",
        "colab_type": "text"
      },
      "source": [
        "<a href=\"https://colab.research.google.com/github/Rajki1205/Rajki1205/blob/main/pythons%20examples.ipynb\" target=\"_parent\"><img src=\"https://colab.research.google.com/assets/colab-badge.svg\" alt=\"Open In Colab\"/></a>"
      ]
    },
    {
      "cell_type": "code",
      "execution_count": null,
      "metadata": {
        "colab": {
          "base_uri": "https://localhost:8080/"
        },
        "id": "whMzIGFf9f_y",
        "outputId": "b9bd5af7-b326-4409-b82d-3269e7f350a5"
      },
      "outputs": [
        {
          "output_type": "stream",
          "name": "stdout",
          "text": [
            "hello, world!\n"
          ]
        }
      ],
      "source": [
        "#This program prints hello, world!\n",
        "print('hello, world!')"
      ]
    },
    {
      "cell_type": "code",
      "source": [
        "#add two numbers \n",
        "\n",
        "num1 = 10.00\n",
        "num2 = 200.00\n",
        "\n",
        "\n",
        "#Add two numbers \n",
        "sum = num1 + num2\n",
        "\n",
        "\n",
        "#display the sum \n",
        "print('The sum of {0} and {1} is {2}' . format(num1 , num2 , sum))"
      ],
      "metadata": {
        "colab": {
          "base_uri": "https://localhost:8080/"
        },
        "id": "GJUN_v7b-L6w",
        "outputId": "864e3769-a9b4-43bf-8af8-d3c15c9c9153"
      },
      "execution_count": null,
      "outputs": [
        {
          "output_type": "stream",
          "name": "stdout",
          "text": [
            "The sum of 10.0 and 200.0 is 210.0\n"
          ]
        }
      ]
    },
    {
      "cell_type": "code",
      "source": [
        "#program calculate the square root\n",
        "\n",
        "#Note: change this value of a different result\n",
        "num = 8\n",
        "\n",
        "\n",
        "#To take the input from the user \n",
        "#num  = float(input('enter a number;'))\n",
        "\n",
        "num_sqrt = num ** 0.5\n",
        "print('the square root of %0.3f is %0.3f'%(num ,num_sqrt))"
      ],
      "metadata": {
        "colab": {
          "base_uri": "https://localhost:8080/"
        },
        "id": "uPE2gCo4_JJL",
        "outputId": "decdc0a6-14b0-4822-8296-76d6667e2431"
      },
      "execution_count": null,
      "outputs": [
        {
          "output_type": "stream",
          "name": "stdout",
          "text": [
            "the square root of 8.000 is 2.828\n"
          ]
        }
      ]
    },
    {
      "cell_type": "code",
      "source": [
        "# python program to find the area of triangle\n",
        "\n",
        "a = 6\n",
        "b = 8\n",
        "c = 7\n",
        "\n",
        "#a = float('enter first side')\n",
        "#b = float('enter second side')\n",
        "#c = float('enter third side')\n",
        "\n",
        "#calculate the semi-perimeter\n",
        "s = (a + b + c) / 2\n",
        "\n",
        "#calculate the area \n",
        "area = (s*(s-a)*(s-b)*(s-c))**0.5\n",
        "print('the area of the triangle is %0.2f' %area)"
      ],
      "metadata": {
        "colab": {
          "base_uri": "https://localhost:8080/"
        },
        "id": "jOHSbPkaAUEn",
        "outputId": "1d55755a-02f8-446f-b7d7-26449f6556b4"
      },
      "execution_count": null,
      "outputs": [
        {
          "output_type": "stream",
          "name": "stdout",
          "text": [
            "the area of the triangle is 20.33\n"
          ]
        }
      ]
    },
    {
      "cell_type": "code",
      "source": [
        "#program solve quadratic equation\n",
        "\n",
        "#solve the quadratic equation ax**2 + bx + c = 0\n",
        "\n",
        "#import coplex math module\n",
        "import cmath\n",
        "\n",
        "a = 12\n",
        "b = 55\n",
        "c = 8\n",
        "\n",
        "#calculate the discriminant\n",
        "d = (b**2) - (4*a*c)\n",
        "\n",
        "#find two solutions \n",
        "sol1 = (-b-cmath.sqrt(d))/(2*a)\n",
        "sol2 = (-b+cmath.sqrt(d))/(2*a)\n",
        "print('the solution are {0} and {1}'.format(sol1 , sol2))"
      ],
      "metadata": {
        "colab": {
          "base_uri": "https://localhost:8080/"
        },
        "id": "342cOjo9B09i",
        "outputId": "b08f9383-0f6b-40ce-9458-4ef596175dbb"
      },
      "execution_count": null,
      "outputs": [
        {
          "output_type": "stream",
          "name": "stdout",
          "text": [
            "the solution are (-4.4329441929216+0j) and (-0.15038914041173376+0j)\n"
          ]
        }
      ]
    },
    {
      "cell_type": "code",
      "source": [
        "#program to swap two variables \n",
        "\n",
        "x = 5\n",
        "y = 10\n",
        "\n",
        "#To take inputs from the user\n",
        "#x = input('enter value of x')\n",
        "#y = input('enter value of y')\n",
        "\n",
        "\n",
        "#create a temporary variable and swap the values \n",
        "temp = x \n",
        "x = y\n",
        "y = temp\n",
        "print('the value of x after swapping: {}' . format(x))\n",
        "print('the value of y after swapping: {}' . format(y))"
      ],
      "metadata": {
        "colab": {
          "base_uri": "https://localhost:8080/"
        },
        "id": "gs3jOvkHEIew",
        "outputId": "9830d13d-8590-455c-92d1-4f66e79d97bb"
      },
      "execution_count": null,
      "outputs": [
        {
          "output_type": "stream",
          "name": "stdout",
          "text": [
            "the value of x after swapping: 10\n",
            "the value of y after swapping: 5\n"
          ]
        }
      ]
    },
    {
      "cell_type": "code",
      "source": [
        "# generate random numbers \n"
      ],
      "metadata": {
        "id": "62Ix9qvAI12K"
      },
      "execution_count": null,
      "outputs": []
    }
  ]
}